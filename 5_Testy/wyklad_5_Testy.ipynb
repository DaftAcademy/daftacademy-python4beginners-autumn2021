{
 "cells": [
  {
   "cell_type": "markdown",
   "metadata": {
    "slideshow": {
     "slide_type": "slide"
    }
   },
   "source": [
    "# Testy\n",
    "\n",
    "### Wojciech Łuszczyński\n",
    "### Python 4 Begginers 2021\n",
    "### Testy jednostkowe, tdd, unittest, pytest\n",
    "\n",
    "### Daft Academy Python4Beginners 07.12.2021"
   ]
  },
  {
   "cell_type": "markdown",
   "metadata": {
    "slideshow": {
     "slide_type": "slide"
    }
   },
   "source": [
    "# 1 Testowanie kodu"
   ]
  },
  {
   "cell_type": "markdown",
   "metadata": {
    "slideshow": {
     "slide_type": "subslide"
    }
   },
   "source": [
    "## 1.1 Co to jest testowanie?"
   ]
  },
  {
   "cell_type": "markdown",
   "metadata": {
    "slideshow": {
     "slide_type": "fragment"
    }
   },
   "source": [
    "Uruchamianie kodu naszego programu w celu sprawdzenia, czy robi to, co powinien"
   ]
  },
  {
   "cell_type": "markdown",
   "metadata": {
    "slideshow": {
     "slide_type": "subslide"
    }
   },
   "source": [
    "### Program testing can be used to show the presence of bugs, but never to show their absence!\n",
    "Edsker D. Dijkstra (1970)"
   ]
  },
  {
   "cell_type": "markdown",
   "metadata": {
    "slideshow": {
     "slide_type": "subslide"
    }
   },
   "source": [
    "## 1.2 Testy automatyczne "
   ]
  },
  {
   "cell_type": "markdown",
   "metadata": {
    "slideshow": {
     "slide_type": "fragment"
    }
   },
   "source": [
    "- dodatkowe fragmenty programu, które uruchamiają nasz główny kod, a następnie porównują wyniki z oczekiwaniami\n",
    "- są szybkie do uruchomienia\n",
    "- są powtarzalne\n",
    "- wszyscy z zespołu są w stanie powtórzyć test"
   ]
  },
  {
   "cell_type": "markdown",
   "metadata": {
    "slideshow": {
     "slide_type": "subslide"
    }
   },
   "source": [
    "## 1.3 Dlaczego testujemy"
   ]
  },
  {
   "cell_type": "markdown",
   "metadata": {
    "slideshow": {
     "slide_type": "fragment"
    }
   },
   "source": [
    "- testowanie pozwala upewnić się, że w wybranych przez nas warunkach wszystko działa tak jak chcemy\n",
    "- zmniejsza strach przed zmianami\n",
    "- łatwiejsze niż debugowanie!"
   ]
  },
  {
   "cell_type": "markdown",
   "metadata": {
    "slideshow": {
     "slide_type": "slide"
    }
   },
   "source": [
    "# 2 Test Driven Development (TDD)"
   ]
  },
  {
   "cell_type": "markdown",
   "metadata": {
    "slideshow": {
     "slide_type": "subslide"
    }
   },
   "source": [
    "## 2.1 TDD jako metodologia"
   ]
  },
  {
   "cell_type": "markdown",
   "metadata": {
    "slideshow": {
     "slide_type": "fragment"
    }
   },
   "source": [
    "1. napisać nieprzechodzący test\n",
    "2. zmienić kod w najłatwiejszy możliwy sposób żeby test przeszedł\n",
    "3. zrobić refactor\n",
    "4. wróć do punktu 1 do momentu uzyskania satysfakcjonującego wyniku"
   ]
  },
  {
   "cell_type": "markdown",
   "metadata": {
    "slideshow": {
     "slide_type": "subslide"
    }
   },
   "source": [
    "## 2.2 Podstawowe testy jednostkowe w czystym python"
   ]
  },
  {
   "cell_type": "markdown",
   "metadata": {
    "slideshow": {
     "slide_type": "subslide"
    }
   },
   "source": [
    "### 2.2.1 Słowo kluczowe `assert`"
   ]
  },
  {
   "cell_type": "markdown",
   "metadata": {
    "slideshow": {
     "slide_type": "fragment"
    }
   },
   "source": [
    "- `assert` jest częścią składni, słowem kluczowym pythona, nie funkcją\n",
    "- jego wywołanie zwraca None jeśli wynik operacji poprzedzony assertem rzutuje się na prawdę logiczną.\n",
    "- jeśli wynik wywołania jest `False`, rzucany jest wyjątek `AssertionError`\n",
    "- nie zaleca się umieszczać `assert` w kodzie wykonywanego programu, a jedynie w module testowym\n",
    "- można globalnie wyłączyć zdolność asserów do rzucania wyjątkiem dla projektu w trakcie jego uruchamiania:\n",
    " - `python -O <file.py>` włącza __basic optimizations__.\n",
    " - `python -OO <file.py>` dodtkowo ucinka Doc Stringi dla szybszego przetwarzania i minimalizacji rozmiaru bytecodu."
   ]
  },
  {
   "cell_type": "markdown",
   "metadata": {
    "slideshow": {
     "slide_type": "subslide"
    }
   },
   "source": [
    "### 2.2.2 Zadanie 1:"
   ]
  },
  {
   "cell_type": "markdown",
   "metadata": {
    "slideshow": {
     "slide_type": "fragment"
    }
   },
   "source": [
    "Napisać funkcję __flatten__, która przyjmuje obiekt listy którego elementami są zagnieżdżone listy liczb i zwraca wszystkie elementy tych list w jednej liście (na jednym poziomie).\n",
    " \n",
    "``` python\n",
    "flatten([1, 2, 3, [4, 5]]) == [1, 2, 3, 4, 5]\n",
    "```"
   ]
  },
  {
   "cell_type": "code",
   "execution_count": null,
   "metadata": {
    "slideshow": {
     "slide_type": "fragment"
    }
   },
   "outputs": [],
   "source": [
    "assert flatten([1, 2, 3]) == [1, 2, 3]"
   ]
  },
  {
   "cell_type": "code",
   "execution_count": null,
   "metadata": {
    "slideshow": {
     "slide_type": "fragment"
    }
   },
   "outputs": [],
   "source": [
    "assert flatten([]) == []"
   ]
  },
  {
   "cell_type": "code",
   "execution_count": null,
   "metadata": {
    "slideshow": {
     "slide_type": "subslide"
    }
   },
   "outputs": [],
   "source": [
    "assert flatten([1, [2, 3], 4]) == [1, 2, 3, 4]"
   ]
  },
  {
   "cell_type": "code",
   "execution_count": null,
   "metadata": {
    "slideshow": {
     "slide_type": "fragment"
    }
   },
   "outputs": [],
   "source": [
    "assert flatten([1, [2, 3], 4]) != [1, [2, 3], 4]"
   ]
  },
  {
   "cell_type": "code",
   "execution_count": null,
   "metadata": {
    "slideshow": {
     "slide_type": "subslide"
    }
   },
   "outputs": [],
   "source": [
    "assert flatten([[1, 2, [3, 4, 5], [6], 7, 8], 9]) == [1, 2, 3, 4, 5, 6, 7, 8, 9]"
   ]
  },
  {
   "cell_type": "code",
   "execution_count": 74,
   "metadata": {
    "slideshow": {
     "slide_type": "subslide"
    }
   },
   "outputs": [],
   "source": [
    "from typing import Union, List\n",
    "\n",
    "_flaten_type_helper = Union[int, List[int]]\n",
    "Flatenable = List[_flaten_type_helper]"
   ]
  },
  {
   "cell_type": "code",
   "execution_count": 75,
   "metadata": {
    "slideshow": {
     "slide_type": "subslide"
    }
   },
   "outputs": [],
   "source": [
    "def flatten(element: Flatenable) -> List[int]:\n",
    "    return list(flatten_gen(element))"
   ]
  },
  {
   "cell_type": "code",
   "execution_count": 76,
   "metadata": {
    "slideshow": {
     "slide_type": "fragment"
    }
   },
   "outputs": [],
   "source": [
    "def flatten_gen(element: Flatenable) -> List[int]:\n",
    "    for e in element:\n",
    "        if isinstance(e, list):\n",
    "            for e_elem in flatten_gen(e):\n",
    "                yield e_elem\n",
    "        else:\n",
    "            yield e"
   ]
  },
  {
   "cell_type": "code",
   "execution_count": 77,
   "metadata": {
    "slideshow": {
     "slide_type": "subslide"
    }
   },
   "outputs": [],
   "source": [
    "assert flatten([1, 2, 3]) == [1, 2, 3]\n",
    "assert flatten([1, [2, 3], 4]) == [1, 2, 3, 4]\n",
    "assert flatten([]) == []\n",
    "assert flatten([[1, 2, [3, 4, 5], [6], 7, 8], 9]) == [1, 2, 3, 4, 5, 6, 7, 8, 9]\n",
    "assert flatten([1, [2, 3], 4]) != [1, [2, 3], 4]"
   ]
  },
  {
   "cell_type": "code",
   "execution_count": 78,
   "metadata": {
    "slideshow": {
     "slide_type": "fragment"
    }
   },
   "outputs": [
    {
     "ename": "AssertionError",
     "evalue": "No nie pykło z tym flatten",
     "output_type": "error",
     "traceback": [
      "\u001b[0;31m---------------------------------------------------------------------------\u001b[0m",
      "\u001b[0;31mAssertionError\u001b[0m                            Traceback (most recent call last)",
      "\u001b[0;32m<ipython-input-78-eacbf5f4db3b>\u001b[0m in \u001b[0;36m<module>\u001b[0;34m\u001b[0m\n\u001b[0;32m----> 1\u001b[0;31m \u001b[0;32massert\u001b[0m \u001b[0mflatten\u001b[0m\u001b[0;34m(\u001b[0m\u001b[0;34m[\u001b[0m\u001b[0;36m1\u001b[0m\u001b[0;34m,\u001b[0m \u001b[0;34m[\u001b[0m\u001b[0;36m2\u001b[0m\u001b[0;34m,\u001b[0m \u001b[0;36m3\u001b[0m\u001b[0;34m]\u001b[0m\u001b[0;34m,\u001b[0m \u001b[0;36m4\u001b[0m\u001b[0;34m]\u001b[0m\u001b[0;34m)\u001b[0m \u001b[0;34m==\u001b[0m \u001b[0;34m[\u001b[0m\u001b[0;36m1\u001b[0m\u001b[0;34m,\u001b[0m \u001b[0;34m[\u001b[0m\u001b[0;36m2\u001b[0m\u001b[0;34m,\u001b[0m \u001b[0;36m3\u001b[0m\u001b[0;34m]\u001b[0m\u001b[0;34m,\u001b[0m \u001b[0;36m4\u001b[0m\u001b[0;34m]\u001b[0m\u001b[0;34m,\u001b[0m \u001b[0;34m\"No nie pykło z tym flatten\"\u001b[0m\u001b[0;34m\u001b[0m\u001b[0;34m\u001b[0m\u001b[0m\n\u001b[0m",
      "\u001b[0;31mAssertionError\u001b[0m: No nie pykło z tym flatten"
     ]
    }
   ],
   "source": [
    "assert flatten([1, [2, 3], 4]) == [1, [2, 3], 4], \"No nie pykło z tym flatten\""
   ]
  },
  {
   "cell_type": "markdown",
   "metadata": {
    "slideshow": {
     "slide_type": "fragment"
    }
   },
   "source": [
    "- `assert` przyjmuje komentarze dla lepszego raportowania o błędzie:\n",
    "\n",
    "  `assert sth == sth, \"comment\"`"
   ]
  },
  {
   "cell_type": "markdown",
   "metadata": {
    "slideshow": {
     "slide_type": "slide"
    }
   },
   "source": [
    "# 3 Jeden poziom wyżej dla pythonowych testów: `unittest`"
   ]
  },
  {
   "cell_type": "markdown",
   "metadata": {
    "slideshow": {
     "slide_type": "subslide"
    }
   },
   "source": [
    "## 3.1 Unittest\n",
    "- Umieszczony w bibliotece standardowej `python` nie wymaga żadnych dodatkowych zależności\n",
    "- Pozwala tworzyć pełne scenariusze testowe\n",
    "- Pozwala organizować kod testów w klasy\n",
    "- Rozbudowane opcje różnych asercji"
   ]
  },
  {
   "cell_type": "markdown",
   "metadata": {
    "slideshow": {
     "slide_type": "subslide"
    }
   },
   "source": [
    "### Przykład wykonania prostych funkcji testów"
   ]
  },
  {
   "cell_type": "code",
   "execution_count": 79,
   "metadata": {
    "slideshow": {
     "slide_type": "subslide"
    }
   },
   "outputs": [],
   "source": [
    "def test_flatten_not_nested_list() -> List[int]:\n",
    "    test_list: list[int] = [1, 2, 3]\n",
    "    result: list[int] = flatten(test_list)\n",
    "    assert result == [1, 2, 3]"
   ]
  },
  {
   "cell_type": "code",
   "execution_count": 80,
   "metadata": {
    "slideshow": {
     "slide_type": "fragment"
    }
   },
   "outputs": [],
   "source": [
    "def test_flatten_nested_list() -> None:\n",
    "    test_list: Flatenable = [1, [2, 3], 4]\n",
    "    result: list[int] = flatten(test_list)\n",
    "    assert result == [1, 2, 3, 4]"
   ]
  },
  {
   "cell_type": "code",
   "execution_count": 81,
   "metadata": {
    "slideshow": {
     "slide_type": "fragment"
    }
   },
   "outputs": [],
   "source": [
    "def test_flatten_empty_list() -> None:\n",
    "    test_list: Flatenable = []\n",
    "    result: list[int] = flatten(test_list)\n",
    "    assert result == []"
   ]
  },
  {
   "cell_type": "code",
   "execution_count": 82,
   "metadata": {
    "slideshow": {
     "slide_type": "fragment"
    }
   },
   "outputs": [],
   "source": [
    "def test_flatten_different_nestings() -> None:\n",
    "    test_list: Flatenable = [[1, 2, [3, 4, 5], [6], 7, 8], 9]\n",
    "    result: list[int] = flatten(test_list)\n",
    "    assert result == [1, 2, 3, 4, 5, 6, 7, 8, 9]"
   ]
  },
  {
   "cell_type": "markdown",
   "metadata": {
    "slideshow": {
     "slide_type": "subslide"
    }
   },
   "source": [
    "### Przykład opakowania przykładowego pliku z testami"
   ]
  },
  {
   "cell_type": "code",
   "execution_count": 83,
   "metadata": {
    "slideshow": {
     "slide_type": "fragment"
    }
   },
   "outputs": [
    {
     "name": "stderr",
     "output_type": "stream",
     "text": [
      "..\n",
      "----------------------------------------------------------------------\n",
      "Ran 2 tests in 0.001s\n",
      "\n",
      "OK\n"
     ]
    }
   ],
   "source": [
    "import unittest\n",
    "\n",
    "class Tests(unittest.TestCase):\n",
    "    \"\"\"Main Test class.\"\"\"\n",
    "\n",
    "    def test_flatten_not_nested_list(self) -> List[int]:\n",
    "        test_list:Flatenable = [1, 2, 3]\n",
    "        result: list[int] = flatten(test_list)\n",
    "        assert result == [1, 2, 3]\n",
    "        \n",
    "    def test_flatten_proper_input(self) -> List[int]:\n",
    "        test_list: Flatenable = 1\n",
    "        with self.assertRaises(TypeError):\n",
    "            result = flatten(test_list)\n",
    "\n",
    "if __name__ == '__main__':\n",
    "    unittest.main(argv=['first-arg-is-ignored'], exit=False)"
   ]
  },
  {
   "cell_type": "markdown",
   "metadata": {
    "slideshow": {
     "slide_type": "slide"
    }
   },
   "source": [
    "# 4 Kolejny poziom wyżej dla pythonowych testów zautomatyzowanych:  `pytest`"
   ]
  },
  {
   "cell_type": "markdown",
   "metadata": {
    "slideshow": {
     "slide_type": "subslide"
    }
   },
   "source": [
    "__Pytest__ jest dodatkowym pakietem Python który możemy zainstalować z PyPI\n",
    "1. Tworzymy nowy virtualenv\n",
    "2. Aktywujemy go\n",
    "3. Instalujemy pakiet __pytest__ `>>pip install pytest`"
   ]
  },
  {
   "cell_type": "markdown",
   "metadata": {
    "slideshow": {
     "slide_type": "subslide"
    }
   },
   "source": [
    "Tworzymy nowe środowisko z `venv` od razu instalując `pytest`: \n",
    "```\n",
    "mkdir testing_project && cd testing_project\n",
    "mkdir .venv && python3 -m venv --prompt testing_project .venv\n",
    "source .venv/bin/activate\n",
    "pip install pytest\n",
    "```"
   ]
  },
  {
   "cell_type": "markdown",
   "metadata": {
    "slideshow": {
     "slide_type": "subslide"
    }
   },
   "source": [
    "__`pytest`__: Framework do testowania:\n",
    "- ułatwia pisanie i organizację testów\n",
    "- daje narzędzie do odpalania i wyszukiwania testów\n",
    "- wyświetla wyniki w ładnej formie\n",
    "\n",
    "http://pythontesting.net/framework/pytest/pytest-introduction/"
   ]
  },
  {
   "cell_type": "markdown",
   "metadata": {
    "slideshow": {
     "slide_type": "subslide"
    }
   },
   "source": [
    "Tak przygotowane testy możemy uruchomić komendą:\n",
    "```\n",
    "pytest\n",
    "```"
   ]
  },
  {
   "cell_type": "markdown",
   "metadata": {
    "slideshow": {
     "slide_type": "fragment"
    }
   },
   "source": [
    "Samo wywołanie `pytest` uruchomi wszystkie testy w projekcie.\n",
    "Można też wykonać konkretny plik z testami:\n",
    "```\n",
    "python -m pytest test_pytest.py\n",
    "pytest test_pytest.py\n",
    "```"
   ]
  },
  {
   "cell_type": "markdown",
   "metadata": {
    "slideshow": {
     "slide_type": "subslide"
    }
   },
   "source": [
    "- Pytest posiada bardzo rozbudowane możliwości asercji, fixtur i innych przydatnych narzędzi\n",
    "- Pytest uruchomi też testy napisane w Unittest. Wystarczy podać nazwę pliku lub jeśli plik zaczyna się od słowa `test` pytest sam znajdzie i uruchomi wszystkie testy."
   ]
  },
  {
   "cell_type": "code",
   "execution_count": 84,
   "metadata": {
    "slideshow": {
     "slide_type": "skip"
    }
   },
   "outputs": [
    {
     "name": "stdout",
     "output_type": "stream",
     "text": [
      "The ipython_pytest extension is already loaded. To reload it, use:\n",
      "  %reload_ext ipython_pytest\n"
     ]
    }
   ],
   "source": [
    "%load_ext ipython_pytest"
   ]
  },
  {
   "cell_type": "code",
   "execution_count": 86,
   "metadata": {
    "slideshow": {
     "slide_type": "subslide"
    }
   },
   "outputs": [
    {
     "name": "stdout",
     "output_type": "stream",
     "text": [
      "============================= test session starts ==============================\n",
      "platform linux -- Python 3.8.2, pytest-5.4.1, py-1.8.1, pluggy-0.13.1\n",
      "rootdir: /tmp/tmp5egj_awj\n",
      "collected 4 items\n",
      "\n",
      "_ipytesttmp.py ....                                                      [100%]\n",
      "\n",
      "============================== 4 passed in 0.03s ===============================\n"
     ]
    }
   ],
   "source": [
    "%%pytest --ignore=warning\n",
    "from typing import Union, List\n",
    "\n",
    "import pytest\n",
    "\n",
    "_flaten_type_helper = Union[int, List[int]]\n",
    "Flatenable = List[_flaten_type_helper]\n",
    "\n",
    "def flatten(element: Flatenable) -> List[int]:\n",
    "    return list(flatten_gen(element))\n",
    "def flatten_gen(element: Flatenable) -> List[int]:\n",
    "    for e in element:\n",
    "        if isinstance(e, list):\n",
    "            for e_elem in flatten_gen(e):\n",
    "                yield e_elem\n",
    "        else:\n",
    "            yield e\n",
    "\n",
    "@pytest.mark.parametrize(\n",
    "    \"param, result\",\n",
    "    [\n",
    "        [[1, 2, 3], [1, 2, 3]],\n",
    "        [[1, [2, 3], 4], [1, 2, 3, 4]],\n",
    "        [[], []],\n",
    "        [[[1, 2, [3, 4, 5], [6], 7, 8], 9], [1, 2, 3, 4, 5, 6, 7, 8, 9]]\n",
    "    ],\n",
    ")\n",
    "def test_value_comparator(param: Flatenable, result: List[int]):\n",
    "    assert flatten(param) == result"
   ]
  },
  {
   "cell_type": "markdown",
   "metadata": {
    "slideshow": {
     "slide_type": "slide"
    }
   },
   "source": [
    "# 5 Metodologia testowania"
   ]
  },
  {
   "cell_type": "markdown",
   "metadata": {
    "slideshow": {
     "slide_type": "subslide"
    }
   },
   "source": [
    "## 5.1 Podejście do testowania projektu"
   ]
  },
  {
   "cell_type": "markdown",
   "metadata": {
    "slideshow": {
     "slide_type": "fragment"
    }
   },
   "source": [
    "- Tak dużo jak jest projektów tak dużo i podejść do testowania.\n",
    "- W pythonie zazwyczaj piszemy 2 typy testów:\n",
    "    - jednostkowe\n",
    "    - integracyjne\n",
    "- Wyróżniamy jeszcze testy:\n",
    "    - systemowe\n",
    "    - akceptacyjne"
   ]
  },
  {
   "cell_type": "markdown",
   "metadata": {
    "slideshow": {
     "slide_type": "subslide"
    }
   },
   "source": [
    "### 5.1.1 Testy __jednostkowe__"
   ]
  },
  {
   "cell_type": "markdown",
   "metadata": {
    "slideshow": {
     "slide_type": "fragment"
    }
   },
   "source": [
    "- zwane też modułowymi\n",
    "- testują funkcjonalność pojedynczych metod, klas, modułów\n",
    "- w projekcie jest ich zazwyczaj najwięcej"
   ]
  },
  {
   "cell_type": "markdown",
   "metadata": {
    "slideshow": {
     "slide_type": "subslide"
    }
   },
   "source": [
    "### 5.1.2 Testy __integracyjne__"
   ]
  },
  {
   "cell_type": "markdown",
   "metadata": {
    "slideshow": {
     "slide_type": "fragment"
    }
   },
   "source": [
    "- testują zależności pomiędzy modułami\n",
    "- wprowadzają scenariusz testów który w ramach jednego testu integracyjnego uruchamia wiele testów jednostkowych\n",
    "- testują konkretne przypadki użycia programu\n",
    "- w projekcie jest ich zazwyczaj znacznie mniej niż testów jednostkowych"
   ]
  },
  {
   "cell_type": "markdown",
   "metadata": {
    "slideshow": {
     "slide_type": "subslide"
    }
   },
   "source": [
    "### 5.1.3 Testy __systemowe__ oraz __akceptacyjne__"
   ]
  },
  {
   "cell_type": "markdown",
   "metadata": {
    "slideshow": {
     "slide_type": "fragment"
    }
   },
   "source": [
    "- testy systemowe\n",
    "    - mają na celu sprawdzenie działania programu w danym środowisku\n",
    "    - sprawdzają poprawność działania w danej architekturze (też i wirtualnej)"
   ]
  },
  {
   "cell_type": "markdown",
   "metadata": {
    "slideshow": {
     "slide_type": "fragment"
    }
   },
   "source": [
    "- testy akceptacyjne\n",
    "    - raczej testy nie automatyczne\n",
    "    - sprawdzają poziom satysfakcji z działania programu\n",
    "    - sprawdzają konkretne przypadki użycia"
   ]
  },
  {
   "cell_type": "markdown",
   "metadata": {
    "slideshow": {
     "slide_type": "slide"
    }
   },
   "source": [
    "## 5.2 Dobre testy"
   ]
  },
  {
   "cell_type": "markdown",
   "metadata": {
    "slideshow": {
     "slide_type": "fragment"
    }
   },
   "source": [
    "- szybkie\n",
    "- zautomatyzowane\n",
    "- przewidywalne\n",
    "- dające dobrą informację zwrotną\n",
    "- skupiające się na jednym aspekcie na raz\n",
    "- dobrze izolowane\n",
    "- przemyślane i zadbane"
   ]
  },
  {
   "cell_type": "markdown",
   "metadata": {
    "slideshow": {
     "slide_type": "subslide"
    }
   },
   "source": [
    "## 5.3 Izolacja testów"
   ]
  },
  {
   "cell_type": "markdown",
   "metadata": {
    "slideshow": {
     "slide_type": "fragment"
    }
   },
   "source": [
    "- testy nie powinny mieć wpływu na siebie nawzajem\n",
    "- błąd w jednym teście nie przerywa wykonania testów\n",
    "- każdy test powinien przejść zarówno uruchomiony pojedynczo jak i w grupie\n",
    "- testy powinny być na tyle izolowane że mogą przejść w dowolnej kolejności"
   ]
  },
  {
   "cell_type": "markdown",
   "metadata": {
    "slideshow": {
     "slide_type": "subslide"
    }
   },
   "source": [
    "## 5.4 Więcej niż testowanie działania programu"
   ]
  },
  {
   "cell_type": "markdown",
   "metadata": {
    "slideshow": {
     "slide_type": "fragment"
    }
   },
   "source": [
    "- Flake8: Sprawdza poprawność pisowni ze standardem PEP8 i innymi standardowymi guidelineami.\n",
    "- mypy: Analizuje typy danych w kodzie nie uruchamiając go. Potrafi wykryć potencjalne błędy.\n",
    "- isort: Sprawdza poprawność sortowania importów z modułów w naszym kodzie\n",
    "- black: Automatyczny linter który w jednoznaczy sposób wyznacza sposób pisowni, deterministyczny i bardzo przydatny w pracy zespołowej."
   ]
  },
  {
   "cell_type": "markdown",
   "metadata": {
    "slideshow": {
     "slide_type": "slide"
    }
   },
   "source": [
    "# 6 Mockowanie"
   ]
  },
  {
   "cell_type": "markdown",
   "metadata": {
    "slideshow": {
     "slide_type": "subslide"
    }
   },
   "source": [
    "## 6.1 Mock"
   ]
  },
  {
   "cell_type": "markdown",
   "metadata": {
    "slideshow": {
     "slide_type": "fragment"
    }
   },
   "source": [
    "- zachowuje się jak dowolny obiekt\n",
    "- zapisuje co się z nim dzieje (jakie akcje sę na nim wykonywane itp)\n",
    "- można na nim później wywołać assert\n",
    "- łatwiej popsuć testy, bo polegamy na dokładnej implementacji danego kawałka\n",
    "- używamy z `with` ! źle wykonane mokowanie które zmienia wbudowany moduł może rzutować na zachowanie całego projektu\n",
    "\n",
    "\n",
    "https://docs.python.org/3/library/unittest.mock.html"
   ]
  },
  {
   "cell_type": "markdown",
   "metadata": {
    "slideshow": {
     "slide_type": "subslide"
    }
   },
   "source": [
    "### 6.1.1 Przed mockowaniem"
   ]
  },
  {
   "cell_type": "code",
   "execution_count": 87,
   "metadata": {
    "slideshow": {
     "slide_type": "-"
    }
   },
   "outputs": [],
   "source": [
    "import random\n",
    "from unittest.mock import patch"
   ]
  },
  {
   "cell_type": "code",
   "execution_count": 88,
   "metadata": {
    "slideshow": {
     "slide_type": "-"
    }
   },
   "outputs": [
    {
     "name": "stdout",
     "output_type": "stream",
     "text": [
      "0.033638890597603166\n",
      "0.2620490092284271\n",
      "0.15792011231350755\n"
     ]
    }
   ],
   "source": [
    "for i in range(3):\n",
    "    print(random.random())"
   ]
  },
  {
   "cell_type": "markdown",
   "metadata": {
    "slideshow": {
     "slide_type": "subslide"
    }
   },
   "source": [
    "### 6.1.2 Zamockowany random"
   ]
  },
  {
   "cell_type": "code",
   "execution_count": 89,
   "metadata": {
    "slideshow": {
     "slide_type": "-"
    }
   },
   "outputs": [
    {
     "name": "stdout",
     "output_type": "stream",
     "text": [
      "\n",
      "0.05\n",
      "0.05\n",
      "0.05\n"
     ]
    }
   ],
   "source": [
    "with patch('random.random') as mock_random:\n",
    "    print('')\n",
    "    mock_random.return_value = 0.05\n",
    "    for i in range(3):\n",
    "        print(random.random())"
   ]
  },
  {
   "cell_type": "markdown",
   "metadata": {
    "slideshow": {
     "slide_type": "subslide"
    }
   },
   "source": [
    "### 6.1.3 Po mockowaniu"
   ]
  },
  {
   "cell_type": "code",
   "execution_count": 90,
   "metadata": {
    "slideshow": {
     "slide_type": "-"
    }
   },
   "outputs": [
    {
     "name": "stdout",
     "output_type": "stream",
     "text": [
      "0.35851505817288265\n",
      "0.2265704711926778\n",
      "0.03285979061741762\n"
     ]
    }
   ],
   "source": [
    "for i in range(3):\n",
    "    print(random.random())"
   ]
  },
  {
   "cell_type": "markdown",
   "metadata": {
    "slideshow": {
     "slide_type": "slide"
    }
   },
   "source": [
    "# 7 Debugowanie - jak sobie z tym radzić"
   ]
  },
  {
   "cell_type": "markdown",
   "metadata": {
    "slideshow": {
     "slide_type": "fragment"
    }
   },
   "source": [
    "- najprostszy sposób - wstawianie printów do kodu\n",
    "- lepszy sposób - użycie interaktywnego debuggera"
   ]
  },
  {
   "cell_type": "markdown",
   "metadata": {
    "slideshow": {
     "slide_type": "fragment"
    }
   },
   "source": [
    "Debugger jest dostępny w bibliotece standardowej:\n",
    "- https://docs.python.org/3.8/library/pdb.html\n",
    "- https://github.com/nblock/pdb-cheatsheet"
   ]
  },
  {
   "cell_type": "code",
   "execution_count": 91,
   "metadata": {
    "slideshow": {
     "slide_type": "subslide"
    }
   },
   "outputs": [],
   "source": [
    "def test_function():\n",
    "    ...\n",
    "    import pdb;pdb.set_trace()"
   ]
  },
  {
   "cell_type": "code",
   "execution_count": 92,
   "metadata": {
    "slideshow": {
     "slide_type": "fragment"
    }
   },
   "outputs": [],
   "source": [
    "def test_function():\n",
    "    ...\n",
    "    breakpoint()"
   ]
  },
  {
   "cell_type": "markdown",
   "metadata": {
    "slideshow": {
     "slide_type": "fragment"
    }
   },
   "source": [
    "- `pdb` można importować dosłownie wszędzie, nie musi być to konkretny testcase\n",
    "- na `breakpoint` wykonanie programu zostaje wstrzymane i czeka na interakcję ze strony użytkownika\n",
    "- dla `pdb` powstało wiele alternatyw, warto skorzystać np z `ipdb`, biblioteki spokrewnionej z `ipython`. Ma tę samą składnie ale dodatkowo koloruje output i poprawia nawigację po kodzie w trakcie debugowania.\n",
    "- UWAGA! zawsze usuwać brakepointy przed commitowaniem kodu do repozytorium !!\n",
    "- Warto napisać Githook który wykrywa użycie PDB w kodzie i uniemożliwia commitowanie kodu"
   ]
  },
  {
   "cell_type": "markdown",
   "metadata": {
    "slideshow": {
     "slide_type": "slide"
    }
   },
   "source": [
    "# 8 Materiały do samodzielnej nauki po zakończeniu kursu:"
   ]
  },
  {
   "cell_type": "markdown",
   "metadata": {},
   "source": [
    "- https://hakibenita.com/python-dependency-injection\n",
    "- https://realpython.com/pytest-python-testing/"
   ]
  }
 ],
 "metadata": {
  "celltoolbar": "Slideshow",
  "kernelspec": {
   "display_name": "Python 3",
   "language": "python",
   "name": "python3"
  },
  "language_info": {
   "codemirror_mode": {
    "name": "ipython",
    "version": 3
   },
   "file_extension": ".py",
   "mimetype": "text/x-python",
   "name": "python",
   "nbconvert_exporter": "python",
   "pygments_lexer": "ipython3",
   "version": "3.8.2"
  },
  "toc-autonumbering": false,
  "toc-showcode": false,
  "toc-showmarkdowntxt": true,
  "toc-showtags": true
 },
 "nbformat": 4,
 "nbformat_minor": 4
}
